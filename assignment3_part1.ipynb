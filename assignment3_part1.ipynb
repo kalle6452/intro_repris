{
 "cells": [
  {
   "cell_type": "markdown",
   "id": "ca7ce9ef-5f99-4641-a94e-ffe821fbe4cf",
   "metadata": {
    "editable": false,
    "slideshow": {
     "slide_type": ""
    },
    "tags": []
   },
   "source": [
    "# Assignment 3 part 1 -- Lists\n",
    "\n",
    "* The assignment covers chapters 7 to 8 (inclusive)\n",
    "* **Assignment 3 is split into two parts** and this is part 1\n",
    "* Part 2 will arrive shortly\n",
    "\n",
    "_Please note_\n",
    "\n",
    "* You need to put comments on code that needs it\n",
    "* Unless asked for, you do not need to do any error handling (but if the task says \"Enter a positive integer\" for example, you need to make sure it only allows for that. You do not need to handle if the user enters a string instead of an integer)\n",
    "* You need to pass _all_ tasks to pass the assignment\n",
    "* Do not hesitate to ask your supervisor during the tutoring sessions if you have any problems with the exercises. You can also post a question in the Slack channel\n",
    "* Do not forget to save your work!\n",
    "\n",
    "_**IMPORTANT**_\n",
    "\n",
    "* Assignment 3 must be handed in via Moodle\n",
    "* You download your `.ipynb` files via the file explorer to the left\n",
    "* You hand in both part 1 and part 2 at the same time at the deadline\n",
    "* The deadline is stated on Moodle"
   ]
  },
  {
   "cell_type": "markdown",
   "id": "0836a796-0270-4328-9c3d-b4c4352c1932",
   "metadata": {
    "editable": false,
    "slideshow": {
     "slide_type": ""
    },
    "tags": []
   },
   "source": [
    "# Lists\n",
    "This part is about _lists_ in Python. Notice that you will need to know several of the previous concepts as well in order to solve the problems presented here."
   ]
  },
  {
   "cell_type": "markdown",
   "id": "15f39a75-35a9-4d2d-a8ca-02276ad0eb72",
   "metadata": {
    "editable": false,
    "slideshow": {
     "slide_type": ""
    },
    "tags": []
   },
   "source": [
    "## Task 1 - Only Positives\n",
    "\n",
    "Create a program that reads an arbitrary number of positive integers from the keyboard and prints them in a single line. Notice that the numbers should be printed one by one, and not by printing the whole list (that is, the printed list should not be shown within [ and ]). The list should be comma-separated and no comma after the last number. The reading stops when the user inputs a negative number. An example of an execution:\n",
    "\n",
    "```\n",
    "Enter positive integers. End by giving a negative integer.\n",
    "Integer 1:  5\n",
    "Integer 2:  7\n",
    "Integer 3:  3\n",
    "Integer 4:  6\n",
    "Integer 5:  -5\n",
    "\n",
    "Number of positive integers: 4\n",
    "Positive numbers: 5, 7, 3, 6\n",
    "```"
   ]
  },
  {
   "cell_type": "code",
   "execution_count": null,
   "id": "6dc70126",
   "metadata": {},
   "outputs": [],
   "source": [
    "# References(also in seperate file called references.pdf):\n",
    "# Exercise 5:\n",
    "# Question on stackoverflow:\n",
    "#KDecker (2014, March 20). Python, remove all non-alphabet chars from string Stackoverflow https://stackoverflow.com/questions/22520932/python-remove-all-non-alphabet-chars-from-string\n",
    "# Answer on stackoverflow:\n",
    "# Don (2015, January 5). Try: Stackoverflow https://stackoverflow.com/a/27773789\n",
    "# Exercise 2\n",
    "# Question:\n",
    "# Tim Shaw (2013 October 4). Python dice rolling simulation Stackoverflow https://stackoverflow.com/questions/19188546/python-dice-rolling-simulation\n",
    "# Answer:\n",
    "# steveha (2013 October 4). I can't improve on Martijn Pieters's answer. :-) Stackoverflow https://stackoverflow.com/a/19188845\n"
   ]
  },
  {
   "cell_type": "code",
   "execution_count": 2,
   "id": "54a54896",
   "metadata": {},
   "outputs": [
    {
     "name": "stdout",
     "output_type": "stream",
     "text": [
      "Enter positive integers. End by giving a negative integer.\n",
      "zero is neither positive nor negative, please try again\n",
      "you have to start with a positive number!\n",
      "zero is neither positive nor negative, please try again\n",
      "Number of positive integers: 3\n",
      "Positive numbers: 5, 6, 5\n"
     ]
    }
   ],
   "source": [
    "# Rätt!!!!\n",
    "# Jupyter är mer konsekvent?\n",
    "# Listan ska skrivas kontinuerligt?\n",
    "# Skriv kommentarer för alla uppgifter\n",
    "print('Enter positive integers. End by giving a negative integer.')\n",
    "lista = []\n",
    "# So that our while loops starts\n",
    "integer = 1\n",
    "i = 0\n",
    "# So that there will be a blankspace before user input.\n",
    "blank = ''\n",
    "while integer >= 0:\n",
    "    integer = int(input(f'Integer {i+1}: {blank}'))\n",
    "    # If the integer is positive we append it to lista and add += i so that the user knows how many\n",
    "    # integers they've written.\n",
    "    if integer > 0:\n",
    "        lista.append(integer)\n",
    "        i += 1\n",
    "    # If a user inputs zero the user will have to try again for the current index in list.\n",
    "    elif integer == 0:\n",
    "        print('zero is neither positive nor negative, please try again')\n",
    "    # If the user inputs a negative value but they have not already put in a positive integer.\n",
    "    elif not lista and not i > 0:\n",
    "        print('you have to start with a positive number!')\n",
    "        integer = 0\n",
    "print(f'Number of positive integers: {i}') \n",
    "print('Positive numbers:', end=' '),   \n",
    "# To make the output conform with requirements by removing [] and putting , after all numbers except the last one.\n",
    "for j in lista[:-1]:\n",
    "    print(str(j), end=', ')\n",
    "print(lista[i-1])\n"
   ]
  },
  {
   "cell_type": "markdown",
   "id": "92f7f597-d4bf-40a1-a7c0-391b64be3129",
   "metadata": {
    "editable": false,
    "slideshow": {
     "slide_type": ""
    },
    "tags": []
   },
   "source": [
    "## Task 2 -- Frequency Table\n",
    "\n",
    "Write a program that uses the random module to simulate that you are rolling two dice 10000 times. At the same time, keep track of the number of times you get the result (adding the dice values) 2, 3, ..., 11, 12. Use a list to store a count of the numbers. After the simulation, present the frequencies for the different numbers. An example of an execution:\n",
    "\n",
    "```\n",
    "Frequency table (sum, count) for rolling two dice 10000 times\n",
    "2 \t 251\n",
    "3 \t 555\n",
    "4 \t 801\n",
    "5 \t 1134\n",
    "6 \t 1375\n",
    "7 \t 1598\n",
    "8 \t 1457\n",
    "9 \t 1112\n",
    "10 \t 833\n",
    "11 \t 583\n",
    "12 \t 301\n",
    "```"
   ]
  },
  {
   "cell_type": "code",
   "execution_count": 3,
   "id": "26b1d7be",
   "metadata": {},
   "outputs": [
    {
     "name": "stdout",
     "output_type": "stream",
     "text": [
      "Frequency table (sum, count) for rolling two dice 10000 times\n",
      "2      278\n",
      "3      529\n",
      "4      855\n",
      "5      1111\n",
      "6      1386\n",
      "7      1662\n",
      "8      1386\n",
      "9      1081\n",
      "10      854\n",
      "11      571\n",
      "12      287\n"
     ]
    }
   ],
   "source": [
    "import random\n",
    "# Creating a list with 12 index of value 0.\n",
    "frekvens = [0] * 12\n",
    "# We store the first die value in roll_1 and the second in die_2.abs\n",
    "# We than add the values and store it in corresponding index.\n",
    "# This means that first element in frekvens will always be zero due to one being unattainable when throwing 2 dice.\n",
    "for i in range(10000):\n",
    "    roll_1 = random.randint(1,6)\n",
    "    roll_2 = random.randint(1,6)\n",
    "    roll = roll_1 + roll_2\n",
    "    frekvens[roll - 1] += 1\n",
    "print('Frequency table (sum, count) for rolling two dice 10000 times')\n",
    "# Going through the list, printing dice value in left column and frequency in right column.\n",
    "for j in range(1,12):\n",
    "    print(f'{j+1}      {frekvens[j]}')"
   ]
  },
  {
   "cell_type": "markdown",
   "id": "64a4af32-bfa8-460b-9f91-6cf2cdce9f5c",
   "metadata": {
    "editable": false,
    "slideshow": {
     "slide_type": ""
    },
    "tags": []
   },
   "source": [
    "## Task 3 - Consecutive Odd Numbers\n",
    "\n",
    "Let us continue to roll the dice! Simulate rolling a six-sided die 20 times and store the results in a list. The task is to find the _longest sequence of consecutive odd numbers_ in the list. If no odd numbers are found, inform the user. If two sequences are equally long, report one of them. See below for an example execution:\n",
    "\n",
    "```\n",
    "Dice rolls: [6, 6, 1, 2, 4, 2, 1, 5, 4, 5, 6, 6, 3, 6, 2, 6, 3, 5, 5, 6]\n",
    "The longest sequence of consecutive odd numbers starts at index 16, length 3.\n",
    "```"
   ]
  },
  {
   "cell_type": "code",
   "execution_count": 4,
   "id": "29e8e02b",
   "metadata": {},
   "outputs": [
    {
     "name": "stdout",
     "output_type": "stream",
     "text": [
      "Dice rolls: [6, 3, 5, 6, 2, 5, 5, 6, 4, 6, 5, 5, 6, 5, 2, 3, 6, 4, 4, 4]\n",
      "The longest sequence of consecutive odd numbers starts at index 1, length 2.\n"
     ]
    }
   ],
   "source": [
    "# Rätt\n",
    "result = []\n",
    "counter = 0\n",
    "index = 0\n",
    "record = 0\n",
    "# Rolling dice 20 times\n",
    "for i in range(20):\n",
    "    roll = random.randint(1,6)\n",
    "    result.append(roll)\n",
    "    # Counter keeps track of the amount of odd numbers in current segment if that is greater than the last segment\n",
    "    # we store the amount in the record variable, we also store the index of the first odd number in that segment\n",
    "    # in variable index.\n",
    "    # If there is more than one segment of equally long numbers only the first one will be printed.\n",
    "    if roll % 2 != 0:\n",
    "        counter += 1\n",
    "        if counter > record:\n",
    "            record = counter\n",
    "            index = i-record+1\n",
    "    # We reset the counter every time we roll an even number.\n",
    "    elif roll % 2 == 0:\n",
    "        counter = 0\n",
    "counter = 0\n",
    "# We run through the list again but this time only storing the total amount of odd numbers in counter\n",
    "# if that number is zero we print 'list contains no numbers'.\n",
    "# if there is more than one occurence of even number we display the longest segment and its starting index.\n",
    "for i in result:\n",
    "    if i % 2 != 0:\n",
    "        counter += 1\n",
    "if counter == 0:\n",
    "    print('list contains no odd numbers')\n",
    "elif counter > 0:\n",
    "    print(f'Dice rolls: {result}')\n",
    "    print(f'The longest sequence of consecutive odd numbers starts at index {index}, length {record}.')"
   ]
  },
  {
   "cell_type": "markdown",
   "id": "a521d0ef-c4c1-43c2-a6df-6fbc369e752c",
   "metadata": {
    "editable": false,
    "slideshow": {
     "slide_type": ""
    },
    "tags": []
   },
   "source": [
    "## Task 4 - Working with Functions\n",
    "\n",
    "Your task is to create six functions and put them in a separate file called `listfunc.py`:\n",
    "\n",
    "* `random_values(amount, start, stop)`: This function generates `amount` number of random values between the start and stop values and returns a list with the values.\n",
    "* `filter_even(numbers)`: This function takes a list of numbers as input and returns a new list containing only the even numbers from the original list.\n",
    "* `sum_of_list(numbers)`: This function takes a list of numbers as input and returns the sum of all numbers in the list.\n",
    "* `capitalise_names(names)`: This function takes a list of names (strings) as input and returns a new list where all names are capitalised (that is, the first letter of each name is uppercase).\n",
    "* `is_strictly_increasing(number)`: This function takes a list of integers as input and returns true if its values are increasing (that is, the next integer is always larger than the previous and _not_ the same).\n",
    "* `get_unique_elements(numbers)`: This function takes a list of integers as input and returns only the unique values in the list (that is, removes duplicate values).\n",
    "\n",
    "You do not need to ask the user for input, but create one random list with 10 values between 1 and 10 and a list to show that the strictly increasing function is working. See below for an example execution:\n",
    "\n",
    "```\n",
    "Original list of numbers: [8, 8, 4, 1, 9, 10, 6, 9, 2, 9]\n",
    "Filtered even numbers: [8, 8, 4, 10, 6, 2]\n",
    "Sum of even numbers: 38\n",
    "Original list of names: ['luke', 'leia', 'han', 'chewbacca']\n",
    "Capitalized names: ['Luke', 'Leia', 'Han', 'Chewbacca']\n",
    "Original list is strictly increasing? False\n",
    "Increasing list is... increasing? True\n",
    "Unique numbers in original list: [8, 4, 1, 9, 10, 6, 2]\n",
    "```"
   ]
  },
  {
   "cell_type": "code",
   "execution_count": 6,
   "id": "75adeffb-516d-4fbc-ab2a-ef531635dc51",
   "metadata": {},
   "outputs": [
    {
     "name": "stdout",
     "output_type": "stream",
     "text": [
      "Original list of numbers: [4, 2, 6, 8, 6, 10, 3, 10, 8, 3]\n",
      "Filtered even numbers: [4, 2, 6, 8, 6, 10, 10, 8]\n",
      "Sum of even numbers: 54\n",
      "Original list of names: ['luke', 'leia', 'han', 'chewbacca']\n",
      "Capitalized names: ['Luke', 'Leia', 'Han', 'Chewbacca']\n",
      "Original list is strictly increasing?: False\n",
      "Increasing list is... increasing?: True\n",
      "Unique numbers in original list: [4, 2, 6, 8, 10, 3]\n"
     ]
    }
   ],
   "source": [
    "# Output blir märklig ibland\n",
    "# We import our functions from listfunc.py, refer to it for details.\n",
    "from listfunc import random_values, filter_even, sum_of_list, capitalize_names, is_strictly_increasing, get_unique_elements_numbers\n",
    "#We execute the functions and store their output in variables\n",
    "# Original will be used in functions original, even, increasing and unique\n",
    "original = random_values(10,1,10)\n",
    "even = filter_even(original)\n",
    "sum = sum_of_list(even)\n",
    "# List for capitalize_names\n",
    "names = ['luke', 'leia', 'han', 'chewbacca']\n",
    "Names = capitalize_names(names)\n",
    "# A list where the next element is larger than the previous one.\n",
    "increase_list = [1,3,4,7,8]\n",
    "increasing = is_strictly_increasing(original)\n",
    "unique = get_unique_elements_numbers(original)\n",
    "print(f'Original list of numbers: {original}')\n",
    "print(f'Filtered even numbers: {even}')\n",
    "print(f'Sum of even numbers: {sum}')\n",
    "print(f'Original list of names: {names}')\n",
    "print(f'Capitalized names: {Names}')\n",
    "print(f'Original list is strictly increasing?: {increasing}')\n",
    "print(f'Increasing list is... increasing?: {is_strictly_increasing(increase_list)}')\n",
    "print(f'Unique numbers in original list: {unique}')"
   ]
  },
  {
   "cell_type": "markdown",
   "id": "04d251cf-02c0-4a2b-99e1-6c4ff97e4abe",
   "metadata": {
    "editable": false,
    "slideshow": {
     "slide_type": ""
    },
    "tags": []
   },
   "source": [
    "## Task 5 - Palindrom\n",
    "\n",
    "In this exercise you are to create a function called `is_palindrome()` that takes a string as input and returns `True` if the string was a palindrome and `False` otherwise. A string is a palindrome if it contains the same sequence of letters when read backwards. This function is not only for a single word, but for entire sentences but it should only care about the letters themselves, not any spaces or other symbols in the text nor if the letters are upper or lower case. Examples of sentences that are palindromes, and therefore most return true, are:\n",
    "\n",
    "```\n",
    "A man a plan a canal Panama\n",
    "Madam in Eden I’m Adam\n",
    "Was it a car or a cat I saw\n",
    "Never odd or even\n",
    "Evil is a name of a foeman, as I live\n",
    "Mr. Owl ate my metal worm\n",
    "```\n",
    "\n",
    "The program should continue to ask the user for sentences until the user enters `stop` (which it should not check if it is a palindrome or not). **Hint**: Start by creating a new string with only lower case letters and where all non-letters have been removed. For example, start by converting \"Was it a rat I saw?\" to wasitaratisaw. See below for an example execution:\n",
    "\n",
    "```\n",
    "Enter a string:  Was it a car or a cat I saw\n",
    "This is a palindrome\n",
    "Enter a string:  Evil is a name of a foeman, as I live\n",
    "This is a palindrome\n",
    "Enter a string:  This is not a palindrome\n",
    "This is not a palindrome\n",
    "Enter a string:  stop\n",
    "Program will end now\n",
    "```"
   ]
  },
  {
   "cell_type": "code",
   "execution_count": 7,
   "id": "65fda757-e5ae-4dcb-97b1-012e57333e97",
   "metadata": {},
   "outputs": [
    {
     "name": "stdout",
     "output_type": "stream",
     "text": [
      "palindrome\n",
      "palindrome\n",
      "not palindrome\n",
      "not palindrome\n",
      "Program will end now\n"
     ]
    }
   ],
   "source": [
    "# Programmet beter sig märkligt i Jupyter.\n",
    "def is_palindrome(string):\n",
    "    #string = input(f'Enter a string: ')\n",
    "    # Removing non all non-alphabetocal characters\n",
    "    string = ''.join(filter(str.isalpha, string))\n",
    "    # Removing all blankspaces so string is one word\n",
    "    string = ''.join(string.split())\n",
    "    # Making all letters in string lowercase\n",
    "    string = string.lower()\n",
    "    #print(string)\n",
    "    forward = []\n",
    "    invers = []\n",
    "    # We go through the string forwards and than put it in the list forward\n",
    "    # We do the same but instead go through the string backwards and than into backward list.abs\n",
    "    # if the list is the same in both directions than it is palindrome.\n",
    "    for i in string:\n",
    "        forward.append(i)\n",
    "    for i in reversed(string):\n",
    "        invers.append(i)\n",
    "    if string != 'stop':\n",
    "        if forward == invers:\n",
    "            print('palindrome')\n",
    "            return True\n",
    "        else:\n",
    "            print('not palindrome')\n",
    "            return False\n",
    "    elif string == 'stop':\n",
    "        print('Program will end now')\n",
    "\n",
    "string = 'test'\n",
    "while string != 'stop':\n",
    "    string = input(f'Enter a string: ')\n",
    "    is_palindrome(string)"
   ]
  },
  {
   "cell_type": "code",
   "execution_count": null,
   "id": "b6916891",
   "metadata": {},
   "outputs": [],
   "source": [
    "# Uppgift 1\n",
    "# Används ifall det är ok att skriva negativ värde vid första input och därmed avsluta direkt.\n",
    "print('Enter positive integers. End by giving a negative integer.')\n",
    "lista = []\n",
    "integer = 1\n",
    "i = 0\n",
    "blank = ''\n",
    "while integer >= 0:\n",
    "    integer = int(input(f'Integer {i+1}: {blank}'))\n",
    "    if integer > 0:\n",
    "        lista.append(integer)\n",
    "        i += 1\n",
    "    elif integer == 0:\n",
    "        #integer = int(input(f'zero is neither positive nor negative, please try again: {blank}'))\n",
    "        print('zero is neither positive nor negative, please try again')\n",
    "        \n",
    "        #break\n",
    "        #exit()\n",
    "    else:\n",
    "        #print(lista)\n",
    "        if not lista:\n",
    "            exit()\n",
    "        else:\n",
    "            break\n",
    "        #print(f'Number of positive integers: 0') \n",
    "        #exit()\n",
    "if not lista:\n",
    "    print('list is empty!')\n",
    "print(f'Number of positive integers: {i}') \n",
    "print('Positive numbers:', end=' '),   \n",
    "for j in lista[:-1]:\n",
    "    print(str(j), end=', ')\n",
    "print(lista[i-1])\n"
   ]
  }
 ],
 "metadata": {
  "kernelspec": {
   "display_name": "Python 3 (ipykernel)",
   "language": "python",
   "name": "python3"
  },
  "language_info": {
   "codemirror_mode": {
    "name": "ipython",
    "version": 3
   },
   "file_extension": ".py",
   "mimetype": "text/x-python",
   "name": "python",
   "nbconvert_exporter": "python",
   "pygments_lexer": "ipython3",
   "version": "3.12.6"
  }
 },
 "nbformat": 4,
 "nbformat_minor": 5
}
